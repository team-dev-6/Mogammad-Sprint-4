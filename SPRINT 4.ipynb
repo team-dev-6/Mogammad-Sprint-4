{
 "cells": [
  {
   "cell_type": "code",
   "execution_count": 1,
   "metadata": {},
   "outputs": [
    {
     "name": "stdout",
     "output_type": "stream",
     "text": [
      "{'_id': ObjectId('5e577677726d142b4c343576'), 'Product': 'Doritos', 'Price': 'R15', 'Size': '150g', 'Quantity ': '225', 'Energy ': '140'}\n",
      "{'_id': ObjectId('5e577677726d142b4c343577'), 'Product': 'Lays ', 'Price': 'R13', 'Size': '250g', 'Quantity ': '400', 'Energy ': '135'}\n",
      "{'_id': ObjectId('5e577677726d142b4c343578'), 'Product': 'Simba', 'Price': 'R13', 'Size': '250g', 'Quantity ': '200', 'Energy ': '125'}\n",
      "{'_id': ObjectId('5e577677726d142b4c343579'), 'Product': 'Coke', 'Price': 'R9', 'Size': '250ml', 'Quantity ': '150', 'Energy ': '500'}\n",
      "{'_id': ObjectId('5e577677726d142b4c34357a'), 'Product': 'Fanta ', 'Price': 'R9', 'Size': '250ml', 'Quantity ': '120', 'Energy ': '600'}\n",
      "{'_id': ObjectId('5e577677726d142b4c34357b'), 'Product': 'Sprite ', 'Price': 'R8', 'Size': '250ml', 'Quantity ': '130', 'Energy ': '400'}\n",
      "{'_id': ObjectId('5e577677726d142b4c34357c'), 'Product': 'Cadbury', 'Price': 'R14', 'Size': '150g', 'Quantity ': '55', 'Energy ': '890'}\n",
      "{'_id': ObjectId('5e577677726d142b4c34357d'), 'Product': 'Tex ', 'Price': 'R13 ', 'Size': '150g', 'Quantity ': '30', 'Energy ': '760'}\n",
      "{'_id': ObjectId('5e577677726d142b4c34357e'), 'Product': 'Bar One ', 'Price': 'R15', 'Size': '150g', 'Quantity ': '23', 'Energy ': '920'}\n",
      "{'_id': ObjectId('5e577677726d142b4c34357f'), 'Product': 'Pepper Steak', 'Price': 'R10', 'Size': '160g', 'Quantity ': '50', 'Energy ': '1000'}\n",
      "{'_id': ObjectId('5e577677726d142b4c343580'), 'Product': 'Chicken ', 'Price': 'R10', 'Size': '160g', 'Quantity ': '55', 'Energy ': '1150'}\n",
      "{'_id': ObjectId('5e577677726d142b4c343581'), 'Product': 'Feta and Cheese ', 'Price': 'R13', 'Size': '160g', 'Quantity ': '25', 'Energy ': '850'}\n",
      "{'_id': ObjectId('5e577677726d142b4c343582'), 'Product': 'Pear', 'Price': 'R15', 'Size': '1kg', 'Quantity ': '26', 'Energy ': '60'}\n",
      "{'_id': ObjectId('5e577677726d142b4c343583'), 'Product': 'Apple ', 'Price': 'R12', 'Size': '1.5kg', 'Quantity ': '35', 'Energy ': '75'}\n",
      "{'_id': ObjectId('5e577677726d142b4c343584'), 'Product': 'Orange ', 'Price': 'R13', 'Size': '1kg', 'Quantity ': '45', 'Energy ': '80'}\n",
      "{'_id': ObjectId('5e577677726d142b4c343585'), 'Product': 'Vanilla ', 'Price': 'R3.5', 'Size': '50g', 'Quantity ': '90', 'Energy ': '320'}\n",
      "{'_id': ObjectId('5e577677726d142b4c343586'), 'Product': 'Chocolate ', 'Price': 'R3.5', 'Size': '50g', 'Quantity ': '89', 'Energy ': '326'}\n",
      "{'_id': ObjectId('5e577677726d142b4c343587'), 'Product': 'Red Velvet ', 'Price': 'R2.5', 'Size': '50g', 'Quantity ': '100', 'Energy ': '400'}\n",
      "{'_id': ObjectId('5e577677726d142b4c343588'), 'Product': 'Spinach ', 'Price': 'R5', 'Size': '250g', 'Quantity ': '45', 'Energy ': '500'}\n",
      "{'_id': ObjectId('5e577677726d142b4c343589'), 'Product': 'Cabbage ', 'Price': 'R6', 'Size': '205g', 'Quantity ': '65', 'Energy ': '525'}\n",
      "{'_id': ObjectId('5e577677726d142b4c34358a'), 'Product': 'Brocolli ', 'Price': 'R4', 'Size': '300g', 'Quantity ': '35', 'Energy ': '670'}\n",
      "{'_id': ObjectId('5e577677726d142b4c34358b'), 'Product': None, 'Price': None, 'Size': None, 'Quantity ': None, 'Energy ': None}\n"
     ]
    }
   ],
   "source": [
    "import pymongo\n",
    "\n",
    "myclient = pymongo.MongoClient(\"mongodb://localhost:27017/\")   \n",
    "\n",
    "mydb = myclient[\"Data_Tracker\"]                       \n",
    "\n",
    "mycol = mydb[\"Products\"]                           \n",
    "\n",
    "for x in mycol.find():\n",
    "\n",
    "    print(x)\n"
   ]
  },
  {
   "cell_type": "code",
   "execution_count": 2,
   "metadata": {},
   "outputs": [],
   "source": [
    "import pymongo\n",
    "mycol = mydb[\"Data_Tracker\"]\n",
    "mycol = mydb[\"Top 3\"]\n",
    "mylist = [\n",
    "      { \"Product\": \"Fanta\", \"Price\": 9,\"Size\":\"250ml\", \"Quantity\": 120, \"Energy\": 600},             \n",
    "      { \"Product\": \"Vanilla\", \"Price\": 3.5, \"Size\":\"50g\" ,\"Quantity\": 90, \"Energy\": 100},\n",
    "      { \"Product\": \"Pepper Steak\", \"Price\": 10, \"Size\":\"160g\", \"Quantity\": 50, \"Energy\": 1000}\n",
    "       ]\n",
    "\n",
    "x = mycol.insert_many(mylist)\n",
    "   "
   ]
  },
  {
   "cell_type": "code",
   "execution_count": 3,
   "metadata": {},
   "outputs": [
    {
     "name": "stdout",
     "output_type": "stream",
     "text": [
      "{'_id': ObjectId('5e577677726d142b4c343576'), 'Product': 'Doritos', 'Price': 'R15', 'Size': '150g', 'Quantity ': '225', 'Energy ': '140'}\n",
      "{'_id': ObjectId('5e577677726d142b4c343577'), 'Product': 'Lays ', 'Price': 'R13', 'Size': '250g', 'Quantity ': '400', 'Energy ': '135'}\n",
      "{'_id': ObjectId('5e577677726d142b4c343578'), 'Product': 'Simba', 'Price': 'R13', 'Size': '250g', 'Quantity ': '200', 'Energy ': '125'}\n",
      "{'_id': ObjectId('5e577677726d142b4c343579'), 'Product': 'Coke', 'Price': 'R9', 'Size': '250ml', 'Quantity ': '150', 'Energy ': '500'}\n",
      "{'_id': ObjectId('5e577677726d142b4c34357a'), 'Product': 'Fanta ', 'Price': 'R9', 'Size': '250ml', 'Quantity ': '120', 'Energy ': '600'}\n",
      "{'_id': ObjectId('5e577677726d142b4c34357b'), 'Product': 'Sprite ', 'Price': 'R8', 'Size': '250ml', 'Quantity ': '130', 'Energy ': '400'}\n",
      "{'_id': ObjectId('5e577677726d142b4c34357c'), 'Product': 'Cadbury', 'Price': 'R14', 'Size': '150g', 'Quantity ': '55', 'Energy ': '890'}\n",
      "{'_id': ObjectId('5e577677726d142b4c34357d'), 'Product': 'Tex ', 'Price': 'R13 ', 'Size': '150g', 'Quantity ': '30', 'Energy ': '760'}\n",
      "{'_id': ObjectId('5e577677726d142b4c34357e'), 'Product': 'Bar One ', 'Price': 'R15', 'Size': '150g', 'Quantity ': '23', 'Energy ': '920'}\n",
      "{'_id': ObjectId('5e577677726d142b4c34357f'), 'Product': 'Pepper Steak', 'Price': 'R10', 'Size': '160g', 'Quantity ': '50', 'Energy ': '1000'}\n",
      "{'_id': ObjectId('5e577677726d142b4c343580'), 'Product': 'Chicken ', 'Price': 'R10', 'Size': '160g', 'Quantity ': '55', 'Energy ': '1150'}\n",
      "{'_id': ObjectId('5e577677726d142b4c343581'), 'Product': 'Feta and Cheese ', 'Price': 'R13', 'Size': '160g', 'Quantity ': '25', 'Energy ': '850'}\n",
      "{'_id': ObjectId('5e577677726d142b4c343582'), 'Product': 'Pear', 'Price': 'R15', 'Size': '1kg', 'Quantity ': '26', 'Energy ': '60'}\n",
      "{'_id': ObjectId('5e577677726d142b4c343583'), 'Product': 'Apple ', 'Price': 'R12', 'Size': '1.5kg', 'Quantity ': '35', 'Energy ': '75'}\n",
      "{'_id': ObjectId('5e577677726d142b4c343584'), 'Product': 'Orange ', 'Price': 'R13', 'Size': '1kg', 'Quantity ': '45', 'Energy ': '80'}\n",
      "{'_id': ObjectId('5e577677726d142b4c343585'), 'Product': 'Vanilla ', 'Price': 'R3.5', 'Size': '50g', 'Quantity ': '90', 'Energy ': '320'}\n",
      "{'_id': ObjectId('5e577677726d142b4c343586'), 'Product': 'Chocolate ', 'Price': 'R3.5', 'Size': '50g', 'Quantity ': '89', 'Energy ': '326'}\n",
      "{'_id': ObjectId('5e577677726d142b4c343587'), 'Product': 'Red Velvet ', 'Price': 'R2.5', 'Size': '50g', 'Quantity ': '100', 'Energy ': '400'}\n",
      "{'_id': ObjectId('5e577677726d142b4c343588'), 'Product': 'Spinach ', 'Price': 'R5', 'Size': '250g', 'Quantity ': '45', 'Energy ': '500'}\n",
      "{'_id': ObjectId('5e577677726d142b4c343589'), 'Product': 'Cabbage ', 'Price': 'R6', 'Size': '205g', 'Quantity ': '65', 'Energy ': '525'}\n",
      "{'_id': ObjectId('5e577677726d142b4c34358a'), 'Product': 'Brocolli ', 'Price': 'R4', 'Size': '300g', 'Quantity ': '35', 'Energy ': '670'}\n",
      "{'_id': ObjectId('5e577677726d142b4c34358b'), 'Product': None, 'Price': None, 'Size': None, 'Quantity ': None, 'Energy ': None}\n"
     ]
    }
   ],
   "source": [
    "import pymongo \n",
    "\n",
    "myclient = pymongo.MongoClient(\"mongodb://localhost:27017\")\n",
    "mydb = myclient[\"Data_Tracker\"]\n",
    "mycol = mydb[\"Products\"]\n",
    "\n",
    "mydoc = mycol.find().sort(\"name\",  -1)\n",
    "\n",
    "for x in mydoc:\n",
    "    print(x)"
   ]
  },
  {
   "cell_type": "code",
   "execution_count": 14,
   "metadata": {},
   "outputs": [
    {
     "name": "stdout",
     "output_type": "stream",
     "text": [
      "{'_id': ObjectId('5e57a8cfd7de0bb882673db7'), 'Product': 'Coke (Cooldrink)', 'Price': 9, 'Size': '250ml', 'Quantity': 120, 'Energy': 600}\n",
      "{'_id': ObjectId('5e57a8cfd7de0bb882673db8'), 'Product': 'Vanilla (Cupcakes)', 'Price': 3.5, 'Size': '50g', 'Quantity': 90, 'Energy': 100}\n",
      "{'_id': ObjectId('5e57a8cfd7de0bb882673db9'), 'Product': 'Pepper Steak (Pies)', 'Price': 10, 'Size': '160g', 'Quantity': 50, 'Energy': 1000}\n"
     ]
    }
   ],
   "source": [
    "#Deleted One Product Top 3 \n",
    "import pymongo \n",
    "\n",
    "myclient = pymongo.MongoClient(\"mongodb://localhost:27017\")\n",
    "mydb = myclient[\"Data_Tracker\"]\n",
    "mycol = mydb[\"Top 3\"]\n",
    "\n",
    "myquery = {\"Product\": \" Vanilla (Cupcakes)\"}\n",
    "\n",
    "mycol.delete_one(myquery)\n",
    "\n",
    "\n",
    "#print the customers collection after deletion: \n",
    "for x in mycol.find():\n",
    "    print(x)"
   ]
  },
  {
   "cell_type": "code",
   "execution_count": 15,
   "metadata": {},
   "outputs": [
    {
     "name": "stdout",
     "output_type": "stream",
     "text": [
      "{'_id': ObjectId('5e57a8cfd7de0bb882673db7'), 'Product': 'Coke (Cooldrink)', 'Price': 9, 'Size': '250ml', 'Quantity': 120, 'Energy': 600}\n",
      "{'_id': ObjectId('5e57a8cfd7de0bb882673db8'), 'Product': 'Vanilla (Cupcakes)', 'Price': 3.5, 'Size': '50g', 'Quantity': 90, 'Energy': 100}\n",
      "{'_id': ObjectId('5e57a8cfd7de0bb882673db9'), 'Product': 'Pepper Steak (Pies)', 'Price': 10, 'Size': '160g', 'Quantity': 50, 'Energy': 1000}\n"
     ]
    }
   ],
   "source": [
    "#Deleted One Product Top 3 \n",
    "import pymongo \n",
    "\n",
    "myclient = pymongo.MongoClient(\"mongodb://localhost:27017\")\n",
    "mydb = myclient[\"Data_Tracker\"]\n",
    "mycol = mydb[\"Top 3\"]\n",
    "\n",
    "myquery = {\"Product\": \" Pepper Steak(Pies\"}\n",
    "\n",
    "mycol.delete_one(myquery)\n",
    "\n",
    "\n",
    "#print the customers collection after deletion: \n",
    "for x in mycol.find():\n",
    "    print(x)"
   ]
  },
  {
   "cell_type": "code",
   "execution_count": 16,
   "metadata": {},
   "outputs": [
    {
     "name": "stdout",
     "output_type": "stream",
     "text": [
      "{'_id': ObjectId('5e57a8cfd7de0bb882673db7'), 'Product': 'Coke (Cooldrink)', 'Price': 9, 'Size': '250ml', 'Quantity': 120, 'Energy': 600}\n",
      "{'_id': ObjectId('5e57a8cfd7de0bb882673db8'), 'Product': 'Vanilla (Cupcakes)', 'Price': 3.5, 'Size': '50g', 'Quantity': 90, 'Energy': 100}\n",
      "{'_id': ObjectId('5e57a8cfd7de0bb882673db9'), 'Product': 'Pepper Steak (Pies)', 'Price': 10, 'Size': '160g', 'Quantity': 50, 'Energy': 1000}\n"
     ]
    }
   ],
   "source": [
    "#Part 2 Update Collection \n",
    "import pymongo \n",
    "\n",
    "myclient = pymongo.MongoClient(\"mongodb://localhost:27017\")\n",
    "mydb = myclient[\"Data_Tracker\"]\n",
    "mycol = mydb[\"Top 3\"]\n",
    "\n",
    "myquery = {\"Product\": \"Fanta (Cooldrink)\"}\n",
    "newvalues = { \"$set\": {\"Product\": \"Coke (Cooldrink)\"}}\n",
    "\n",
    "mycol.update_one(myquery, newvalues)\n",
    "\n",
    "#Print \"customers\" after the update:\n",
    "for x in mycol.find():\n",
    "    print(x)"
   ]
  },
  {
   "cell_type": "code",
   "execution_count": 20,
   "metadata": {},
   "outputs": [],
   "source": [
    "#Filter the result 1\n",
    "\n",
    "import pymongo\n",
    "\n",
    "myclient = pymongo.MongoClient(\"mongodb://localhost:27017/\")\n",
    "\n",
    "mydb = myclient[\"Data_Tracker\"]\n",
    "\n",
    "mycol = mydb[\"Products\"]\n",
    "\n",
    "myquery = { \"Quantity\": \"Apple 55\" }\n",
    "\n",
    "mydoc = mycol.find(myquery)\n",
    "\n",
    "for x in mydoc:\n",
    "\n",
    "    print(x)"
   ]
  },
  {
   "cell_type": "code",
   "execution_count": 21,
   "metadata": {},
   "outputs": [],
   "source": [
    "#Filter the result 2\n",
    "\n",
    "import pymongo\n",
    "\n",
    "myclient = pymongo.MongoClient(\"mongodb://localhost:27017/\")\n",
    "\n",
    "mydb = myclient[\"Data_Tracker\"]\n",
    "\n",
    "mycol = mydb[\"Products\"]\n",
    "\n",
    "myquery = { \"Quantity\": \"Chocolate 89\" }\n",
    "\n",
    "mydoc = mycol.find(myquery)\n",
    "\n",
    "for x in mydoc:\n",
    "\n",
    "    print(x)"
   ]
  },
  {
   "cell_type": "code",
   "execution_count": 22,
   "metadata": {},
   "outputs": [],
   "source": [
    "#Filter the result 3\n",
    "\n",
    "import pymongo\n",
    "\n",
    "myclient = pymongo.MongoClient(\"mongodb://localhost:27017/\")\n",
    "\n",
    "mydb = myclient[\"Data_Tracker\"]\n",
    "\n",
    "mycol = mydb[\"Products\"]\n",
    "\n",
    "myquery = { \"Quantity\": \"Doritos 225\" }\n",
    "\n",
    "mydoc = mycol.find(myquery)\n",
    "\n",
    "for x in mydoc:\n",
    "\n",
    "    print(x)"
   ]
  },
  {
   "cell_type": "code",
   "execution_count": null,
   "metadata": {},
   "outputs": [],
   "source": [
    "#Filter the result 4\n",
    "\n",
    "import pymongo\n",
    "\n",
    "myclient = pymongo.MongoClient(\"mongodb://localhost:27017/\")\n",
    "\n",
    "mydb = myclient[\"Data_Tracker\"]\n",
    "\n",
    "mycol = mydb[\"Products\"]\n",
    "\n",
    "myquery = { \"Quantity\": \"Chicken 55\" }\n",
    "\n",
    "mydoc = mycol.find(myquery)\n",
    "\n",
    "for x in mydoc:\n",
    "\n",
    "    print(x)"
   ]
  },
  {
   "cell_type": "code",
   "execution_count": null,
   "metadata": {},
   "outputs": [],
   "source": [
    "#Filter the result 5\n",
    "\n",
    "import pymongo\n",
    "\n",
    "myclient = pymongo.MongoClient(\"mongodb://localhost:27017/\")\n",
    "\n",
    "mydb = myclient[\"Data_Tracker\"]\n",
    "\n",
    "mycol = mydb[\"Products\"]\n",
    "\n",
    "myquery = { \"Quantity\": \"Orange 45\" }\n",
    "\n",
    "mydoc = mycol.find(myquery)\n",
    "\n",
    "for x in mydoc:\n",
    "\n",
    "    print(x)"
   ]
  }
 ],
 "metadata": {
  "kernelspec": {
   "display_name": "Python 3",
   "language": "python",
   "name": "python3"
  },
  "language_info": {
   "codemirror_mode": {
    "name": "ipython",
    "version": 3
   },
   "file_extension": ".py",
   "mimetype": "text/x-python",
   "name": "python",
   "nbconvert_exporter": "python",
   "pygments_lexer": "ipython3",
   "version": "3.7.4"
  }
 },
 "nbformat": 4,
 "nbformat_minor": 2
}
